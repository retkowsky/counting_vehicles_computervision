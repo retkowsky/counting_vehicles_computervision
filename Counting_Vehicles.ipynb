{
 "cells": [
  {
   "cell_type": "markdown",
   "id": "ba5de171",
   "metadata": {},
   "source": [
    "# Counting Vehicles from a video stream"
   ]
  },
  {
   "cell_type": "markdown",
   "id": "c9ec7074",
   "metadata": {},
   "source": [
    "<img src=\"viaduc.jpg\" width=800>"
   ]
  },
  {
   "cell_type": "markdown",
   "id": "b06e52af",
   "metadata": {},
   "source": [
    "## 1. Setttings"
   ]
  },
  {
   "cell_type": "code",
   "execution_count": 1,
   "id": "43e5126d",
   "metadata": {},
   "outputs": [
    {
     "data": {
      "text/plain": [
       "'3.8.8 (default, Apr 13 2021, 15:08:03) [MSC v.1916 64 bit (AMD64)]'"
      ]
     },
     "execution_count": 1,
     "metadata": {},
     "output_type": "execute_result"
    }
   ],
   "source": [
    "import sys\n",
    "sys.version"
   ]
  },
  {
   "cell_type": "code",
   "execution_count": 2,
   "id": "a8053b6d",
   "metadata": {},
   "outputs": [],
   "source": [
    "#!pip install azureml-sdk"
   ]
  },
  {
   "cell_type": "code",
   "execution_count": 3,
   "id": "71264cf5",
   "metadata": {},
   "outputs": [],
   "source": [
    "import cv2\n",
    "import numpy as np\n",
    "from time import sleep\n",
    "import datetime\n",
    "from azureml.core.experiment import Experiment\n",
    "from azureml.core.workspace import Workspace"
   ]
  },
  {
   "cell_type": "code",
   "execution_count": 4,
   "id": "82d06f38",
   "metadata": {},
   "outputs": [],
   "source": [
    "import os\n",
    "subscription_id = os.environ.get(\"SUBSCRIPTION_ID\", \"tobereplaced\") # ID Azure\n",
    "workspace_name = os.environ.get(\"WORKSPACE_NAME\", \"azuremlvision\") # Azure ML Workspace name\n",
    "resource_group = os.environ.get(\"RESOURCE_GROUP\", \"azuremlvision-rg\") #Azure ML Resource group"
   ]
  },
  {
   "cell_type": "code",
   "execution_count": 5,
   "id": "2a11a4a2",
   "metadata": {},
   "outputs": [
    {
     "name": "stdout",
     "output_type": "stream",
     "text": [
      "Azure ML workspace azuremlvision was found: OK\n"
     ]
    }
   ],
   "source": [
    "from azureml.core import Workspace\n",
    "\n",
    "try:\n",
    "   ws = Workspace(subscription_id = subscription_id, resource_group = resource_group, workspace_name = workspace_name)\n",
    "   ws.write_config()\n",
    "   print(\"Azure ML workspace\", ws.name ,\"was found: OK\")\n",
    "except:\n",
    "   print(\"Error.\")"
   ]
  },
  {
   "cell_type": "code",
   "execution_count": 6,
   "id": "03738c34",
   "metadata": {},
   "outputs": [
    {
     "name": "stdout",
     "output_type": "stream",
     "text": [
      "Current Azure ML Workspace: azuremlvision\n",
      "Region: westeurope\n",
      "Ressource Group: azuremlvision-rg\n"
     ]
    }
   ],
   "source": [
    "ws = Workspace.from_config()\n",
    "print('Current Azure ML Workspace: ' + ws.name, \n",
    "      'Region: ' + ws.location, \n",
    "      'Ressource Group: ' + ws.resource_group, sep='\\n')"
   ]
  },
  {
   "cell_type": "code",
   "execution_count": 7,
   "id": "4f2fa4f0",
   "metadata": {},
   "outputs": [],
   "source": [
    "from azureml.core import experiment\n",
    "experiment = Experiment(workspace=ws, name=\"Video_Traffic_Prediction\")"
   ]
  },
  {
   "cell_type": "code",
   "execution_count": 8,
   "id": "513ca5dc",
   "metadata": {},
   "outputs": [],
   "source": [
    "run = experiment.start_logging(snapshot_directory=None)"
   ]
  },
  {
   "cell_type": "markdown",
   "id": "b9dfdcd7",
   "metadata": {},
   "source": [
    "## 2. Video Capture"
   ]
  },
  {
   "cell_type": "code",
   "execution_count": 9,
   "id": "e2d54c7b",
   "metadata": {},
   "outputs": [],
   "source": [
    "Largeurmin=20\n",
    "hauteurmin=20\n",
    "offset=10\n",
    "referenceline=650\n",
    "delay=60 #FPS\n",
    "detec = []\n",
    "nbvehicles=0\n",
    "traffic_per_hour=0"
   ]
  },
  {
   "cell_type": "code",
   "execution_count": 10,
   "id": "bf04d047",
   "metadata": {},
   "outputs": [],
   "source": [
    "def fcentre(x, y, w, h):\n",
    "    x1 = int(w / 2)\n",
    "    y1 = int(h / 2)\n",
    "    cx = x + x1\n",
    "    cy = y + y1\n",
    "    return cx,cy"
   ]
  },
  {
   "cell_type": "code",
   "execution_count": 11,
   "id": "179cd54f",
   "metadata": {},
   "outputs": [
    {
     "name": "stdout",
     "output_type": "stream",
     "text": [
      "\u001b[1;31;34mStarting:  2021-07-30 14:16:43.543972 \n",
      "\n",
      "2021-07-30 14:16:45.043493\n",
      "Number of vehicles = 1\n",
      ">> Prediction of number of vehicles per minute = 40\n",
      ">> Prediction of number of vehicles per hour = 2400\n",
      ">> Prediction of number of vehicles per day = 57600\n",
      "\n",
      " ------------------------------------------------------------------------- \n",
      "\n",
      "2021-07-30 14:16:45.114490\n",
      "Number of vehicles = 2\n",
      ">> Prediction of number of vehicles per minute = 76\n",
      ">> Prediction of number of vehicles per hour = 4560\n",
      ">> Prediction of number of vehicles per day = 109440\n",
      "\n",
      " ------------------------------------------------------------------------- \n",
      "\n",
      "2021-07-30 14:16:46.141511\n",
      "Number of vehicles = 3\n",
      ">> Prediction of number of vehicles per minute = 69\n",
      ">> Prediction of number of vehicles per hour = 4140\n",
      ">> Prediction of number of vehicles per day = 99360\n",
      "\n",
      " ------------------------------------------------------------------------- \n",
      "\n",
      "2021-07-30 14:16:46.968513\n",
      "Number of vehicles = 4\n",
      ">> Prediction of number of vehicles per minute = 70\n",
      ">> Prediction of number of vehicles per hour = 4200\n",
      ">> Prediction of number of vehicles per day = 100800\n",
      "\n",
      " ------------------------------------------------------------------------- \n",
      "\n",
      "2021-07-30 14:16:47.034513\n",
      "Number of vehicles = 5\n",
      ">> Prediction of number of vehicles per minute = 86\n",
      ">> Prediction of number of vehicles per hour = 5160\n",
      ">> Prediction of number of vehicles per day = 123840\n",
      "\n",
      " ------------------------------------------------------------------------- \n",
      "\n",
      "2021-07-30 14:16:47.097513\n",
      "Number of vehicles = 6\n",
      ">> Prediction of number of vehicles per minute = 101\n",
      ">> Prediction of number of vehicles per hour = 6060\n",
      ">> Prediction of number of vehicles per day = 145440\n",
      "\n",
      " ------------------------------------------------------------------------- \n",
      "\n",
      "2021-07-30 14:16:47.098510\n",
      "Number of vehicles = 7\n",
      ">> Prediction of number of vehicles per minute = 118\n",
      ">> Prediction of number of vehicles per hour = 7080\n",
      ">> Prediction of number of vehicles per day = 169920\n",
      "\n",
      " ------------------------------------------------------------------------- \n",
      "\n",
      "2021-07-30 14:16:47.367513\n",
      "Number of vehicles = 8\n",
      ">> Prediction of number of vehicles per minute = 126\n",
      ">> Prediction of number of vehicles per hour = 7560\n",
      ">> Prediction of number of vehicles per day = 181440\n",
      "\n",
      " ------------------------------------------------------------------------- \n",
      "\n",
      "2021-07-30 14:16:47.422509\n",
      "Number of vehicles = 9\n",
      ">> Prediction of number of vehicles per minute = 139\n",
      ">> Prediction of number of vehicles per hour = 8340\n",
      ">> Prediction of number of vehicles per day = 200160\n",
      "\n",
      " ------------------------------------------------------------------------- \n",
      "\n",
      "2021-07-30 14:16:47.487511\n",
      "Number of vehicles = 10\n",
      ">> Prediction of number of vehicles per minute = 152\n",
      ">> Prediction of number of vehicles per hour = 9120\n",
      ">> Prediction of number of vehicles per day = 218880\n",
      "\n",
      " ------------------------------------------------------------------------- \n",
      "\n",
      "2021-07-30 14:16:48.381515\n",
      "Number of vehicles = 11\n",
      ">> Prediction of number of vehicles per minute = 136\n",
      ">> Prediction of number of vehicles per hour = 8160\n",
      ">> Prediction of number of vehicles per day = 195840\n",
      "\n",
      " ------------------------------------------------------------------------- \n",
      "\n",
      "2021-07-30 14:16:48.384513\n",
      "Number of vehicles = 12\n",
      ">> Prediction of number of vehicles per minute = 149\n",
      ">> Prediction of number of vehicles per hour = 8940\n",
      ">> Prediction of number of vehicles per day = 214560\n",
      "\n",
      " ------------------------------------------------------------------------- \n",
      "\n",
      "2021-07-30 14:16:48.450513\n",
      "Number of vehicles = 13\n",
      ">> Prediction of number of vehicles per minute = 159\n",
      ">> Prediction of number of vehicles per hour = 9540\n",
      ">> Prediction of number of vehicles per day = 228960\n",
      "\n",
      " ------------------------------------------------------------------------- \n",
      "\n",
      "2021-07-30 14:16:49.997514\n",
      "Number of vehicles = 14\n",
      ">> Prediction of number of vehicles per minute = 130\n",
      ">> Prediction of number of vehicles per hour = 7800\n",
      ">> Prediction of number of vehicles per day = 187200\n",
      "\n",
      " ------------------------------------------------------------------------- \n",
      "\n",
      "2021-07-30 14:16:52.830575\n",
      "Number of vehicles = 15\n",
      ">> Prediction of number of vehicles per minute = 97\n",
      ">> Prediction of number of vehicles per hour = 5820\n",
      ">> Prediction of number of vehicles per day = 139680\n",
      "\n",
      " ------------------------------------------------------------------------- \n",
      "\n",
      "2021-07-30 14:16:54.214619\n",
      "Number of vehicles = 16\n",
      ">> Prediction of number of vehicles per minute = 90\n",
      ">> Prediction of number of vehicles per hour = 5400\n",
      ">> Prediction of number of vehicles per day = 129600\n",
      "\n",
      " ------------------------------------------------------------------------- \n",
      "\n",
      "2021-07-30 14:16:57.334530\n",
      "Number of vehicles = 17\n",
      ">> Prediction of number of vehicles per minute = 74\n",
      ">> Prediction of number of vehicles per hour = 4440\n",
      ">> Prediction of number of vehicles per day = 106560\n",
      "\n",
      " ------------------------------------------------------------------------- \n",
      "\n",
      "2021-07-30 14:16:57.336532\n",
      "Number of vehicles = 18\n",
      ">> Prediction of number of vehicles per minute = 78\n",
      ">> Prediction of number of vehicles per hour = 4680\n",
      ">> Prediction of number of vehicles per day = 112320\n",
      "\n",
      " ------------------------------------------------------------------------- \n",
      "\n",
      "2021-07-30 14:17:00.445591\n",
      "Number of vehicles = 19\n",
      ">> Prediction of number of vehicles per minute = 67\n",
      ">> Prediction of number of vehicles per hour = 4020\n",
      ">> Prediction of number of vehicles per day = 96480\n",
      "\n",
      " ------------------------------------------------------------------------- \n",
      "\n",
      "2021-07-30 14:17:00.595589\n",
      "Number of vehicles = 20\n",
      ">> Prediction of number of vehicles per minute = 70\n",
      ">> Prediction of number of vehicles per hour = 4200\n",
      ">> Prediction of number of vehicles per day = 100800\n",
      "\n",
      " ------------------------------------------------------------------------- \n",
      "\n",
      "2021-07-30 14:17:01.265589\n",
      "Number of vehicles = 21\n",
      ">> Prediction of number of vehicles per minute = 71\n",
      ">> Prediction of number of vehicles per hour = 4260\n",
      ">> Prediction of number of vehicles per day = 102240\n",
      "\n",
      " ------------------------------------------------------------------------- \n",
      "\n",
      "2021-07-30 14:17:01.980725\n",
      "Number of vehicles = 22\n",
      ">> Prediction of number of vehicles per minute = 72\n",
      ">> Prediction of number of vehicles per hour = 4320\n",
      ">> Prediction of number of vehicles per day = 103680\n",
      "\n",
      " ------------------------------------------------------------------------- \n",
      "\n",
      "2021-07-30 14:17:02.167750\n",
      "Number of vehicles = 23\n",
      ">> Prediction of number of vehicles per minute = 74\n",
      ">> Prediction of number of vehicles per hour = 4440\n",
      ">> Prediction of number of vehicles per day = 106560\n",
      "\n",
      " ------------------------------------------------------------------------- \n",
      "\n",
      "2021-07-30 14:17:02.556799\n",
      "Number of vehicles = 24\n",
      ">> Prediction of number of vehicles per minute = 76\n",
      ">> Prediction of number of vehicles per hour = 4560\n",
      ">> Prediction of number of vehicles per day = 109440\n",
      "\n",
      " ------------------------------------------------------------------------- \n",
      "\n",
      "2021-07-30 14:17:03.695599\n",
      "Number of vehicles = 25\n",
      ">> Prediction of number of vehicles per minute = 74\n",
      ">> Prediction of number of vehicles per hour = 4440\n",
      ">> Prediction of number of vehicles per day = 106560\n",
      "\n",
      " ------------------------------------------------------------------------- \n",
      "\n",
      "2021-07-30 14:17:03.837599\n",
      "Number of vehicles = 26\n",
      ">> Prediction of number of vehicles per minute = 77\n",
      ">> Prediction of number of vehicles per hour = 4620\n",
      ">> Prediction of number of vehicles per day = 110880\n",
      "\n",
      " ------------------------------------------------------------------------- \n",
      "\n",
      "2021-07-30 14:17:05.328602\n",
      "Number of vehicles = 27\n",
      ">> Prediction of number of vehicles per minute = 74\n",
      ">> Prediction of number of vehicles per hour = 4440\n",
      ">> Prediction of number of vehicles per day = 106560\n",
      "\n",
      " ------------------------------------------------------------------------- \n",
      "\n",
      "2021-07-30 14:17:05.917601\n",
      "Number of vehicles = 28\n",
      ">> Prediction of number of vehicles per minute = 75\n",
      ">> Prediction of number of vehicles per hour = 4500\n",
      ">> Prediction of number of vehicles per day = 108000\n",
      "\n",
      " ------------------------------------------------------------------------- \n",
      "\n",
      "2021-07-30 14:17:07.905670\n",
      "Number of vehicles = 29\n",
      ">> Prediction of number of vehicles per minute = 71\n",
      ">> Prediction of number of vehicles per hour = 4260\n",
      ">> Prediction of number of vehicles per day = 102240\n",
      "\n",
      " ------------------------------------------------------------------------- \n",
      "\n",
      "2021-07-30 14:17:08.028671\n",
      "Number of vehicles = 30\n",
      ">> Prediction of number of vehicles per minute = 74\n",
      ">> Prediction of number of vehicles per hour = 4440\n",
      ">> Prediction of number of vehicles per day = 106560\n",
      "\n",
      " ------------------------------------------------------------------------- \n",
      "\n"
     ]
    },
    {
     "ename": "error",
     "evalue": "OpenCV(4.5.2) C:\\Users\\runneradmin\\AppData\\Local\\Temp\\pip-req-build-k1ohfcms\\opencv\\modules\\imgproc\\src\\color.cpp:182: error: (-215:Assertion failed) !_src.empty() in function 'cv::cvtColor'\n",
     "output_type": "error",
     "traceback": [
      "\u001b[1;31m---------------------------------------------------------------------------\u001b[0m",
      "\u001b[1;31merror\u001b[0m                                     Traceback (most recent call last)",
      "\u001b[1;32m<ipython-input-11-964bfbdd5ab0>\u001b[0m in \u001b[0;36m<module>\u001b[1;34m\u001b[0m\n\u001b[0;32m     10\u001b[0m     \u001b[0msleep\u001b[0m\u001b[1;33m(\u001b[0m\u001b[0mtempo\u001b[0m\u001b[1;33m)\u001b[0m\u001b[1;33m\u001b[0m\u001b[1;33m\u001b[0m\u001b[0m\n\u001b[0;32m     11\u001b[0m \u001b[1;33m\u001b[0m\u001b[0m\n\u001b[1;32m---> 12\u001b[1;33m     \u001b[0mgrey\u001b[0m \u001b[1;33m=\u001b[0m \u001b[0mcv2\u001b[0m\u001b[1;33m.\u001b[0m\u001b[0mcvtColor\u001b[0m\u001b[1;33m(\u001b[0m\u001b[0mframe1\u001b[0m\u001b[1;33m,\u001b[0m\u001b[0mcv2\u001b[0m\u001b[1;33m.\u001b[0m\u001b[0mCOLOR_BGR2GRAY\u001b[0m\u001b[1;33m)\u001b[0m\u001b[1;33m\u001b[0m\u001b[1;33m\u001b[0m\u001b[0m\n\u001b[0m\u001b[0;32m     13\u001b[0m     \u001b[0mblur\u001b[0m \u001b[1;33m=\u001b[0m \u001b[0mcv2\u001b[0m\u001b[1;33m.\u001b[0m\u001b[0mGaussianBlur\u001b[0m\u001b[1;33m(\u001b[0m\u001b[0mgrey\u001b[0m\u001b[1;33m,\u001b[0m\u001b[1;33m(\u001b[0m\u001b[1;36m3\u001b[0m\u001b[1;33m,\u001b[0m\u001b[1;36m3\u001b[0m\u001b[1;33m)\u001b[0m\u001b[1;33m,\u001b[0m\u001b[1;36m5\u001b[0m\u001b[1;33m)\u001b[0m\u001b[1;33m\u001b[0m\u001b[1;33m\u001b[0m\u001b[0m\n\u001b[0;32m     14\u001b[0m     \u001b[0mimg_sub\u001b[0m \u001b[1;33m=\u001b[0m \u001b[0msoustrace\u001b[0m\u001b[1;33m.\u001b[0m\u001b[0mapply\u001b[0m\u001b[1;33m(\u001b[0m\u001b[0mblur\u001b[0m\u001b[1;33m)\u001b[0m\u001b[1;33m\u001b[0m\u001b[1;33m\u001b[0m\u001b[0m\n",
      "\u001b[1;31merror\u001b[0m: OpenCV(4.5.2) C:\\Users\\runneradmin\\AppData\\Local\\Temp\\pip-req-build-k1ohfcms\\opencv\\modules\\imgproc\\src\\color.cpp:182: error: (-215:Assertion failed) !_src.empty() in function 'cv::cvtColor'\n"
     ]
    }
   ],
   "source": [
    "webcam = cv2.VideoCapture('millau.mp4')\n",
    "\n",
    "soustrace = cv2.bgsegm.createBackgroundSubtractorMOG()\n",
    "debut = datetime.datetime.now()\n",
    "print(\"\\033[1;31;34mStarting: \", debut, '\\n')\n",
    "\n",
    "while True:\n",
    "    ret , frame1 = webcam.read()\n",
    "    tempo = float(1/delay)\n",
    "    sleep(tempo)\n",
    "    \n",
    "    grey = cv2.cvtColor(frame1,cv2.COLOR_BGR2GRAY)\n",
    "    blur = cv2.GaussianBlur(grey,(3,3),5)\n",
    "    img_sub = soustrace.apply(blur)\n",
    "    dilat = cv2.dilate(img_sub,np.ones((5,5)))\n",
    "    kernel = cv2.getStructuringElement(cv2.MORPH_ELLIPSE, (5, 5))\n",
    "    dilate = cv2.morphologyEx (dilat, cv2. MORPH_CLOSE , kernel)\n",
    "    dilate = cv2.morphologyEx (dilate, cv2. MORPH_CLOSE , kernel)\n",
    "    contour,h=cv2.findContours(dilate,cv2.RETR_TREE,cv2.CHAIN_APPROX_SIMPLE)\n",
    "      \n",
    "    # Ligne de référence\n",
    "    cv2.line(frame1, (10, referenceline), (1500, referenceline), (255,255,0), 3)\n",
    "    \n",
    "    for(i,c) in enumerate(contour):\n",
    "        (x,y,w,h) = cv2.boundingRect(c)\n",
    "        contourvalider = (w >= Largeurmin) and (h >= hauteurmin)\n",
    "        \n",
    "        if not contourvalider:\n",
    "            continue\n",
    "        \n",
    "        # Rectangle for each vehicle\n",
    "        cv2.rectangle(frame1,(x,y),(x+w,y+h),(0,255,0),2)        \n",
    "        centre = fcentre(x, y, w, h)\n",
    "        detec.append(centre)\n",
    "        \n",
    "        # Cercle centre voiture\n",
    "        cv2.circle(frame1, centre, 3, (0, 255, 0), -1)\n",
    "        \n",
    "        for (x,y) in detec:\n",
    "            if y<(referenceline+offset) and y>(referenceline-offset):\n",
    "                nbvehicles+=1\n",
    "                cv2.line(frame1, (25, referenceline), (1200, referenceline), (0,255,0), 2)  \n",
    "                detec.remove((x,y))\n",
    "                \n",
    "                now = datetime.datetime.now()\n",
    "                \n",
    "                # Python prints\n",
    "                print(datetime.datetime.now())\n",
    "                print(\"Number of vehicles = \"+str(nbvehicles))        \n",
    "    \n",
    "                now2=datetime.datetime.now()\n",
    "                elapsed=now2-debut\n",
    "                nbseconds=elapsed.total_seconds()\n",
    "                traffic_per_min=round(nbvehicles/nbseconds*60)\n",
    "                traffic_per_hour=round(traffic_per_min*60)\n",
    "                traffic_per_day=round(traffic_per_hour*24)\n",
    "                \n",
    "                print(\">> Prediction of number of vehicles per minute =\", str(traffic_per_min))\n",
    "                print(\">> Prediction of number of vehicles per hour =\", str(traffic_per_hour))\n",
    "                print(\">> Prediction of number of vehicles per day =\", str(traffic_per_day))\n",
    "                print(\"\\n\", \"-------------------------------------------------------------------------\", \"\\n\")\n",
    "                \n",
    "                # Logging values to Azure ML workspace\n",
    "                run.log(\"Date\", now)\n",
    "                run.log(\"Number_vehicles\", nbvehicles)\n",
    "                run.log(\"Traffic_prediction_minutes\", traffic_per_min)\n",
    "                run.log(\"Traffic_prediction_hour\", traffic_per_hour)\n",
    "                run.log(\"Traffic_prediction_day\", traffic_per_day)\n",
    "                \n",
    "    # Datetime\n",
    "    maintenant = datetime.datetime.now()\n",
    "    maintenant2=maintenant.strftime(\"%d-%b-%Y %H:%M:%S\")\n",
    "    \n",
    "    # Displaying datetime in the video\n",
    "    cv2.putText(frame1, \"Counting vehicules 'Viaduc de Millau'\", (10, 50), cv2.FONT_HERSHEY_SIMPLEX, 1, (255, 0, 0),2)\n",
    "    cv2.putText(frame1, str(maintenant2), (10, 80), cv2.FONT_HERSHEY_SIMPLEX, 0.7, (255, 0, 0),2)\n",
    "    \n",
    "    # Displaying number of vehicules in the video\n",
    "    cv2.putText(frame1, \"Number of vehicles = \"+ str(nbvehicles), (10, 150), \n",
    "                cv2.FONT_HERSHEY_SIMPLEX, 0.9, (0, 0, 255),2)\n",
    "    \n",
    "    # Computing and displaying prediction traffic\n",
    "    if traffic_per_hour !=0:\n",
    "        cv2.putText(frame1, \">> Prediction of traffic: \"+str(traffic_per_hour) \n",
    "                    + \" vehicles per hour\", (10, 200), cv2.FONT_HERSHEY_SIMPLEX, 0.7, (0, 255, 255),2)\n",
    "        cv2.putText(frame1, \">> Prediction of traffic: \"+str(traffic_per_day) \n",
    "                    +\" vehicles per day\", (10, 230), cv2.FONT_HERSHEY_SIMPLEX, 0.7, (0, 255, 255),2)\n",
    "    \n",
    "    cv2.imshow(\"Video\" , frame1)\n",
    "    cv2.imshow(\"Resultat\",dilate)\n",
    "\n",
    "    if cv2.waitKey(1) == 27: # Press ESC to exit\n",
    "        run.complete() # Stop logging Azure ML \n",
    "        break\n",
    "    \n",
    "cv2.destroyAllWindows()\n",
    "webcam.release()"
   ]
  },
  {
   "cell_type": "markdown",
   "id": "2aa8c69c",
   "metadata": {},
   "source": [
    "### Azure ML experiment"
   ]
  },
  {
   "cell_type": "code",
   "execution_count": 12,
   "id": "f3b6405e",
   "metadata": {},
   "outputs": [
    {
     "data": {
      "text/html": [
       "<table style=\"width:100%\"><tr><th>Name</th><th>Workspace</th><th>Report Page</th><th>Docs Page</th></tr><tr><td>Video_Traffic_Prediction</td><td>azuremlvision</td><td><a href=\"https://ml.azure.com/experiments/id/e4a93512-34c2-4093-b406-3ea4cd285b90?wsid=/subscriptions/70b8f39e-8863-49f7-b6ba-34a80799550c/resourcegroups/azuremlvision-rg/workspaces/azuremlvision&amp;tid=72f988bf-86f1-41af-91ab-2d7cd011db47\" target=\"_blank\" rel=\"noopener\">Link to Azure Machine Learning studio</a></td><td><a href=\"https://docs.microsoft.com/en-us/python/api/azureml-core/azureml.core.experiment.Experiment?view=azure-ml-py\" target=\"_blank\" rel=\"noopener\">Link to Documentation</a></td></tr></table>"
      ],
      "text/plain": [
       "Experiment(Name: Video_Traffic_Prediction,\n",
       "Workspace: azuremlvision)"
      ]
     },
     "execution_count": 12,
     "metadata": {},
     "output_type": "execute_result"
    }
   ],
   "source": [
    "experiment"
   ]
  },
  {
   "cell_type": "markdown",
   "id": "06ee8bc6",
   "metadata": {},
   "source": [
    "> End"
   ]
  },
  {
   "cell_type": "code",
   "execution_count": null,
   "id": "91818da5",
   "metadata": {},
   "outputs": [],
   "source": []
  }
 ],
 "metadata": {
  "kernelspec": {
   "display_name": "Python 3.7.4 64-bit ('base': conda)",
   "language": "python",
   "name": "python37464bitbasecondaa8f247989e3249eeaeb95e646eac59a3"
  },
  "language_info": {
   "codemirror_mode": {
    "name": "ipython",
    "version": 3
   },
   "file_extension": ".py",
   "mimetype": "text/x-python",
   "name": "python",
   "nbconvert_exporter": "python",
   "pygments_lexer": "ipython3",
   "version": "3.8.8"
  }
 },
 "nbformat": 4,
 "nbformat_minor": 5
}
